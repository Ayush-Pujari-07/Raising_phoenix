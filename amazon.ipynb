{
 "cells": [
  {
   "cell_type": "code",
   "execution_count": 1,
   "metadata": {},
   "outputs": [],
   "source": [
    "from bs4 import BeautifulSoup\n",
    "import requests"
   ]
  },
  {
   "cell_type": "code",
   "execution_count": 2,
   "metadata": {},
   "outputs": [
    {
     "data": {
      "text/plain": [
       "200"
      ]
     },
     "execution_count": 2,
     "metadata": {},
     "output_type": "execute_result"
    }
   ],
   "source": [
    "search = input(\"Enter the product name: \")\n",
    "url = f\"https://www.amazon.in/s?k={search}\"\n",
    "header = {\"User-Agent\":\"Mozilla/5.0 (Windows NT 10.0; Win64; x64) AppleWebKit/537.36 (KHTML, like Gecko) Chrome/114.0.0.0 Safari/537.36\"}\n",
    "page = requests.get(url, headers=header)\n",
    "page.status_code"
   ]
  },
  {
   "cell_type": "code",
   "execution_count": 3,
   "metadata": {},
   "outputs": [],
   "source": [
    "soup = BeautifulSoup(page.content, \"html.parser\")"
   ]
  },
  {
   "cell_type": "code",
   "execution_count": 1,
   "metadata": {},
   "outputs": [
    {
     "name": "stderr",
     "output_type": "stream",
     "text": [
      "c:\\Users\\Ayush Pujari\\anaconda3\\lib\\site-packages\\seaborn\\_decorators.py:36: FutureWarning: Pass the following variables as keyword args: x, y. From version 0.12, the only valid positional argument will be `data`, and passing other arguments without an explicit keyword will result in an error or misinterpretation.\n",
      "  warnings.warn(\n"
     ]
    },
    {
     "data": {
      "text/plain": [
       "Text(0.5, 1.0, 'Number of poisonous/edible mushrooms')"
      ]
     },
     "execution_count": 1,
     "metadata": {},
     "output_type": "execute_result"
    },
    {
     "data": {
      "image/png": "[encoded data removed]",
      "text/plain": [
       "<Figure size 800x700 with 1 Axes>"
      ]
     },
     "metadata": {},
     "output_type": "display_data"
    }
   ],
   "source": [
    "import pandas as pd\n",
    "import matplotlib.pyplot as plt\n",
    "import seaborn as sns\n",
    "\n",
    "df = pd.read_csv(\"https://raw.githubusercontent.com/kanchitank/Mushroom-Classification/master/mushrooms.csv\")\n",
    "df['class'].value_counts()\n",
    "count = df['class'].value_counts()\n",
    "\n",
    "plt.figure(figsize=(8, 7))\n",
    "sns.barplot(count.index, count.values, alpha=0.8, palette=\"prism\")\n",
    "plt.ylabel('Count', fontsize=12)\n",
    "plt.xlabel('Class', fontsize=12)\n",
    "plt.title('Number of poisonous/edible mushrooms')"
   ]
  },
  {
   "cell_type": "code",
   "execution_count": 2,
   "metadata": {},
   "outputs": [],
   "source": [
    "class AgeValidationException(Exception):\n",
    "    def __init__(self, msg):\n",
    "        self.msg = msg\n",
    "\n",
    "\n",
    "def age_validation(age):\n",
    "    if age < 0:\n",
    "        raise AgeValidationException(\"Please enter a positive number.\")\n",
    "    elif age > 200:\n",
    "        raise AgeValidationException(\"Please enter a valid age.\")\n",
    "\n",
    "\n",
    "try:\n",
    "    age1 = int(input(\"Enter an age: \"))\n",
    "    age_validation(age1)\n",
    "except AgeValidationException as e:\n",
    "    print(e.msg)\n",
    "except ValueError:\n",
    "    print(\"Invalid input. Please enter a valid integer.\")\n"
   ]
  },
  {
   "cell_type": "code",
   "execution_count": 3,
   "metadata": {},
   "outputs": [
    {
     "name": "stderr",
     "output_type": "stream",
     "text": [
      "C:\\Users\\Ayush Pujari\\AppData\\Local\\Temp\\ipykernel_7400\\3906685669.py:5: DeprecationWarning: executable_path has been deprecated, please pass in a Service object\n",
      "  driver = webdriver.Chrome(\"D:\\\\Download\\\\chromedriver.exe\")\n"
     ]
    }
   ],
   "source": [
    "from selenium import webdriver\n",
    "from selenium.webdriver.chrome.options import Options\n",
    "from selenium.webdriver.common.by import By\n",
    "\n",
    "driver = webdriver.Chrome(\"D:\\\\Download\\\\chromedriver.exe\")"
   ]
  },
  {
   "cell_type": "code",
   "execution_count": 4,
   "metadata": {},
   "outputs": [],
   "source": [
    "driver.get(\"https://www.linkedin.com/home\")"
   ]
  },
  {
   "cell_type": "code",
   "execution_count": 5,
   "metadata": {},
   "outputs": [],
   "source": [
    "driver.find_element(By.ID, \"session_key\").send_keys(\"ayush08.pujari@gmail.com\")\n",
    "driver.find_element(By.ID, \"session_password\").send_keys(\"143@OnePiece\")"
   ]
  },
  {
   "cell_type": "code",
   "execution_count": 6,
   "metadata": {},
   "outputs": [],
   "source": [
    "driver.find_element(By.XPATH, '//*[@id=\"main-content\"]/section[1]/div/div/form/div[2]/button').click()"
   ]
  },
  {
   "cell_type": "code",
   "execution_count": 7,
   "metadata": {},
   "outputs": [],
   "source": [
    "driver.find_element(By.CLASS_NAME, 'primary-action-new').click()"
   ]
  },
  {
   "cell_type": "code",
   "execution_count": 9,
   "metadata": {},
   "outputs": [],
   "source": [
    "page = driver.page_source"
   ]
  },
  {
   "cell_type": "code",
   "execution_count": 12,
   "metadata": {},
   "outputs": [],
   "source": [
    "from bs4 import BeautifulSoup\n",
    "\n",
    "soup = BeautifulSoup(page, \"html.parser\")"
   ]
  },
  {
   "cell_type": "code",
   "execution_count": 20,
   "metadata": {},
   "outputs": [],
   "source": [
    "job_page = soup.find_all('li', {\"class\":\"global-nav__primary-item\"})[2].find('a').get('href')"
   ]
  },
  {
   "cell_type": "code",
   "execution_count": 21,
   "metadata": {},
   "outputs": [],
   "source": [
    "driver.get(job_page)"
   ]
  },
  {
   "cell_type": "code",
   "execution_count": 23,
   "metadata": {},
   "outputs": [],
   "source": [
    "job_page = driver.page_source"
   ]
  },
  {
   "cell_type": "code",
   "execution_count": 24,
   "metadata": {},
   "outputs": [],
   "source": [
    "job_soup = BeautifulSoup(job_page, 'html.parser')"
   ]
  },
  {
   "cell_type": "code",
   "execution_count": 31,
   "metadata": {},
   "outputs": [],
   "source": [
    "all_job_link = job_soup.find('div',{\"class\":\"discovery-templates-vertical-list__footer\"}).a.get('href')"
   ]
  },
  {
   "cell_type": "code",
   "execution_count": 32,
   "metadata": {},
   "outputs": [],
   "source": [
    "driver.get(all_job_link)"
   ]
  },
  {
   "cell_type": "code",
   "execution_count": 33,
   "metadata": {},
   "outputs": [],
   "source": [
    "all_job_link_page = driver.page_source"
   ]
  },
  {
   "cell_type": "code",
   "execution_count": 34,
   "metadata": {},
   "outputs": [],
   "source": [
    "all_job_link_soup = BeautifulSoup(all_job_link_page, \"html.parser\")"
   ]
  },
  {
   "cell_type": "code",
   "execution_count": 41,
   "metadata": {},
   "outputs": [
    {
     "name": "stdout",
     "output_type": "stream",
     "text": [
      "\n",
      "\n",
      "\n",
      "\n",
      "\n",
      "\n",
      "\n",
      "\n",
      "              AI Developer\n",
      "            \n",
      "\n",
      "\n",
      "\n",
      "            Soft Designers\n",
      "          \n",
      "\n",
      "\n",
      "\n",
      "Bengaluru South, Karnataka, India\n",
      "\n",
      "                  On-site\n",
      "                \n",
      "\n",
      "\n",
      " \n",
      "\n",
      "\n",
      "\n",
      " \n",
      "\n",
      "\n",
      "\n",
      "\n",
      "    Not for me\n",
      "\n",
      "\n",
      "\n",
      "\n",
      "\n",
      "\n",
      "\n",
      "\n",
      "\n",
      "\n",
      "                2 weeks ago\n",
      "\n",
      " \n",
      "\n",
      "\n",
      "\n",
      "\n",
      " \n",
      "\n",
      "\n",
      "\n",
      "\n",
      "\n",
      "\n",
      "\n",
      "              Easy Apply\n",
      "            \n",
      "\n",
      " \n",
      " \n",
      "\n",
      "\n",
      "\n",
      "\n",
      "\n",
      "\n",
      "\n",
      "\n",
      "\n",
      "              ArtificiaI Intelligence Lead\n",
      "            \n",
      "\n",
      "\n",
      "\n",
      "            Wipro\n",
      "          \n",
      "\n",
      "\n",
      "\n",
      "Singapore, Singapore\n",
      "\n",
      "                  On-site\n",
      "                \n",
      "\n",
      "\n",
      " \n",
      "\n",
      "\n",
      "\n",
      " \n",
      "\n",
      "\n",
      "\n",
      "\n",
      "    Not for me\n",
      "\n",
      "\n",
      "\n",
      "\n",
      "\n",
      "\n",
      "\n",
      "\n",
      "\n",
      " \n",
      "\n",
      "\n",
      "\n",
      "\n",
      "\n",
      "\n",
      "\n",
      "    3 connections work here\n",
      "  \n",
      "\n",
      "\n",
      "\n",
      "\n",
      "Promoted\n",
      "\n",
      " \n",
      " \n",
      " \n",
      "\n",
      "\n",
      "\n",
      "\n",
      "\n",
      "\n",
      "\n",
      "\n",
      "\n",
      "              MERN Stack Developer\n",
      "            \n",
      "\n",
      "\n",
      "\n",
      "            AS Technology Corporation\n",
      "          \n",
      "\n",
      "\n",
      "\n",
      "Bengaluru, Karnataka, India\n",
      "\n",
      "                  On-site\n",
      "                \n",
      "\n",
      "\n",
      " \n",
      "\n",
      "\n",
      "\n",
      " \n",
      "\n",
      "\n",
      "\n",
      "\n",
      "    Not for me\n",
      "\n",
      "\n",
      "\n",
      "\n",
      "\n",
      "\n",
      "\n",
      "\n",
      "\n",
      "\n",
      "\n",
      "\n",
      "\n",
      "    Actively recruiting\n",
      "  \n",
      "\n",
      "\n",
      "\n",
      "\n",
      "\n",
      "\n",
      "                1 minute ago\n",
      "\n",
      "                  Within the past 24 hours\n",
      "\n",
      "\n",
      "\n",
      "\n",
      "\n",
      " \n",
      "\n",
      "\n",
      "\n",
      "\n",
      "\n",
      "\n",
      "\n",
      "              Easy Apply\n",
      "            \n",
      "\n",
      " \n",
      " \n",
      "\n",
      "\n",
      "\n",
      "\n",
      "\n",
      "\n",
      "\n",
      "\n",
      "\n",
      "              Senior Engineer(AIGC)\n",
      "            \n",
      "\n",
      "\n",
      "\n",
      "            Tencent\n",
      "          \n",
      "\n",
      "\n",
      "\n",
      "Singapore, Singapore\n",
      "\n",
      "                  On-site\n",
      "                \n",
      "\n",
      "\n",
      " \n",
      "\n",
      "\n",
      "\n",
      " \n",
      "\n",
      "\n",
      "\n",
      "\n",
      "    Not for me\n",
      "\n",
      "\n",
      "\n",
      "\n",
      "\n",
      "\n",
      "\n",
      "\n",
      "\n",
      "\n",
      "\n",
      "\n",
      "\n",
      "    Actively recruiting\n",
      "  \n",
      "\n",
      "\n",
      "\n",
      "\n",
      "Promoted\n",
      "\n",
      "\n",
      "\n",
      " \n",
      "\n",
      "\n",
      "\n",
      "\n",
      "\n",
      "\n",
      "\n",
      "              Easy Apply\n",
      "            \n",
      "\n",
      " \n",
      " \n",
      "\n",
      "\n",
      "\n",
      "\n",
      "\n",
      "\n",
      "\n",
      "\n",
      "\n",
      "              Quantitative Researcher\n",
      "            \n",
      "\n",
      "\n",
      "\n",
      "            Lingjun Investment , LLP\n",
      "          \n",
      "\n",
      "\n",
      "\n",
      "Singapore, Singapore\n",
      "\n",
      "                  On-site\n",
      "                \n",
      "\n",
      "\n",
      " \n",
      "\n",
      "\n",
      "\n",
      " \n",
      "\n",
      "\n",
      "\n",
      "\n",
      "    Not for me\n",
      "\n",
      "\n",
      "\n",
      "\n",
      "\n",
      "\n",
      "\n",
      "\n",
      "\n",
      "\n",
      "\n",
      "\n",
      "\n",
      "    Actively recruiting\n",
      "  \n",
      "\n",
      "\n",
      "\n",
      "\n",
      "Promoted\n",
      "\n",
      "\n",
      "\n",
      " \n",
      "\n",
      "\n",
      "\n",
      "\n",
      "\n",
      "\n",
      "\n",
      "              Easy Apply\n",
      "            \n",
      "\n",
      " \n",
      " \n",
      "\n",
      "\n",
      "\n",
      "\n",
      "\n",
      "\n",
      "\n",
      "\n",
      "\n",
      "              Assistant Relationship Manager\n",
      "            \n",
      "\n",
      "\n",
      "\n",
      "            Aglaia Family Office Pte Ltd\n",
      "          \n",
      "\n",
      "\n",
      "\n",
      "Singapore, Singapore\n",
      "\n",
      "                  Hybrid\n",
      "                \n",
      "\n",
      "\n",
      " \n",
      "\n",
      "\n",
      "\n",
      " \n",
      "\n",
      "\n",
      "\n",
      "\n",
      "    Not for me\n",
      "\n",
      "\n",
      "\n",
      "\n",
      "\n",
      "\n",
      "\n",
      "\n",
      "Promoted\n",
      "\n",
      "\n",
      "\n",
      " \n",
      "\n",
      "\n",
      "\n",
      "\n",
      "\n",
      "\n",
      "\n",
      "              Easy Apply\n",
      "            \n",
      "\n",
      " \n",
      " \n",
      "\n",
      "\n",
      "\n",
      "\n",
      "\n",
      "\n",
      "\n",
      "\n",
      "\n",
      "              Python Developer\n",
      "            \n",
      "\n",
      "\n",
      "\n",
      "            Replicon\n",
      "          \n",
      "\n",
      "\n",
      "\n",
      "India\n",
      "\n",
      "                  Remote\n",
      "                \n",
      "\n",
      "\n",
      " \n",
      "\n",
      "\n",
      "\n",
      " \n",
      "\n",
      "\n",
      "\n",
      "\n",
      "    Not for me\n",
      "\n",
      "\n",
      "\n",
      "\n",
      "\n",
      "\n",
      "\n",
      "\n",
      "\n",
      "\n",
      "\n",
      "\n",
      "\n",
      "    1 company alumnus works here\n",
      "  \n",
      "\n",
      "\n",
      "\n",
      "\n",
      "\n",
      "\n",
      "                17 minutes ago\n",
      "\n",
      "                  Within the past 24 hours\n",
      "\n",
      "\n",
      "\n",
      "\n",
      "\n",
      " \n",
      "\n",
      "\n",
      "\n",
      "\n",
      "\n",
      "\n",
      "\n",
      "              Easy Apply\n",
      "            \n",
      "\n",
      " \n",
      " \n",
      "\n"
     ]
    }
   ],
   "source": [
    "for i in all_job_link_soup.find_all(\"div\",{\"class\":\"job-card-container\"}):\n",
    "    print(i.getText())"
   ]
  },
  {
   "cell_type": "code",
   "execution_count": 48,
   "metadata": {},
   "outputs": [],
   "source": [
    "pagetion_len = len(driver.find_element(By.CLASS_NAME, \"jobs-search-results-list__pagination\").find_element(By.TAG_NAME, \"ul\").find_elements(By.TAG_NAME, 'li'))"
   ]
  },
  {
   "cell_type": "code",
   "execution_count": 58,
   "metadata": {},
   "outputs": [
    {
     "data": {
      "text/plain": [
       "<selenium.webdriver.remote.webelement.WebElement (session=\"5f4418a58280bd238239216b16c12d7c\", element=\"35478EF9CA6C1073A151FE5E9EF04B04_element_15245\")>"
      ]
     },
     "execution_count": 58,
     "metadata": {},
     "output_type": "execute_result"
    }
   ],
   "source": [
    "driver.find_element(By.CLASS_NAME, \"jobs-search-results-list__pagination\").find_element(By.TAG_NAME, \"ul\").find_element(By.TAG_NAME, 'li').find_element(By.TAG_NAME, 'button')"
   ]
  },
  {
   "cell_type": "code",
   "execution_count": 62,
   "metadata": {},
   "outputs": [],
   "source": [
    "driver.refresh()"
   ]
  },
  {
   "cell_type": "code",
   "execution_count": 85,
   "metadata": {},
   "outputs": [],
   "source": [
    "def get_url(page_source):\n",
    "    soup = BeautifulSoup(page_source, \"html.parser\")\n",
    "    url_list = soup.find_all(\"div\",{\"class\":\"job-card-container\"})\n",
    "    return url_list"
   ]
  },
  {
   "cell_type": "code",
   "execution_count": 86,
   "metadata": {},
   "outputs": [
    {
     "name": "stdout",
     "output_type": "stream",
     "text": [
      "1\n",
      "2\n",
      "3\n",
      "4\n",
      "5\n",
      "6\n",
      "7\n",
      "8\n"
     ]
    }
   ],
   "source": [
    "import time\n",
    "counter=24\n",
    "all_page_url_list = []\n",
    "for i in range(1,pagetion_len):\n",
    "    time.sleep(4)\n",
    "    print(i)\n",
    "    driver.get(f\"https://www.linkedin.com/jobs/collections/recommended/?currentJobId=&start={counter}\")\n",
    "    all_page_url_list.append(get_url(driver.page_source))\n",
    "    counter+=24"
   ]
  },
  {
   "cell_type": "code",
   "execution_count": 110,
   "metadata": {},
   "outputs": [
    {
     "data": {
      "text/plain": [
       "'https://www.linkedin.com//jobs/view/3641519309/?eBP=CwEAAAGJJe3i_BtAmOcgEOfM6RwtN5ojGzjYByRGRUZNPiFkZKIFa9tdut36Paia_ntZiPKBG5zH5Ak6q0SQZnlQWIukYQTu69kFE4L8i9uh1yp77GWgcO_CEdvseBQgaGw8u-D0MlbJmV_wJRL_-lHsVO1E6yJDmyNBWPO_0Ev0WCphckucschBiA2iJTSN4sGwGG_0AjV2_NqzJBaTYE18ZZV07-3OWM8qwWobDnSlbubjFTzfL8YKBvkdBCneNWbblp_5HG8yjmSPC35CQBNw2uI969srzYY7QGXWDmrXC6kdRV3sSzmLYueSGuSc5uPyhOnmmA&recommendedFlavor=COMPANY_RECRUIT&refId=JU%2BfnzLgds1%2Ba5kAQcAP2g%3D%3D&trackingId=MZaGLYwc%2FeyI%2FEZif2BKKA%3D%3D&trk=flagship3_jobs_discovery_jymbii'"
      ]
     },
     "execution_count": 110,
     "metadata": {},
     "output_type": "execute_result"
    }
   ],
   "source": [
    "\"https://www.linkedin.com/\"+all_page_url_list[1][6].div.find('div',{\"class\":\"flex-grow-1 artdeco-entity-lockup__content ember-view\"}).div.a.get('href')"
   ]
  },
  {
   "cell_type": "code",
   "execution_count": 107,
   "metadata": {},
   "outputs": [
    {
     "data": {
      "text/plain": [
       "7"
      ]
     },
     "execution_count": 107,
     "metadata": {},
     "output_type": "execute_result"
    }
   ],
   "source": [
    "len(all_page_url_list[0])"
   ]
  },
  {
   "cell_type": "code",
   "execution_count": null,
   "metadata": {},
   "outputs": [],
   "source": []
  }
 ],
 "metadata": {
  "kernelspec": {
   "display_name": "base",
   "language": "python",
   "name": "python3"
  },
  "language_info": {
   "codemirror_mode": {
    "name": "ipython",
    "version": 3
   },
   "file_extension": ".py",
   "mimetype": "text/x-python",
   "name": "python",
   "nbconvert_exporter": "python",
   "pygments_lexer": "ipython3",
   "version": "3.11.4"
  },
  "orig_nbformat": 4
 },
 "nbformat": 4,
 "nbformat_minor": 2
}
