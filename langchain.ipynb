{
 "cells": [
  {
   "cell_type": "code",
   "execution_count": null,
   "metadata": {},
   "outputs": [],
   "source": [
    "from langchain.llms import AI21\n",
    "import os\n",
    "from dotenv import load_dotenv, find_dotenv\n",
    "\n",
    "load_dotenv(find_dotenv())\n",
    "\n",
    "# AI21_API_KEY = os.environ.get(\"AI21_API_KEY\")\n",
    "# AI21_API_KEY"
   ]
  },
  {
   "cell_type": "code",
   "execution_count": null,
   "metadata": {},
   "outputs": [],
   "source": [
    "llm = AI21(temperature=0.7)\n",
    "text = \"what are 5 vacation destination for Chai Lovers?\"\n",
    "print(llm(text))"
   ]
  },
  {
   "cell_type": "markdown",
   "metadata": {},
   "source": [
    "# Prompt Templates: Manage prompts for LLMs"
   ]
  },
  {
   "cell_type": "code",
   "execution_count": null,
   "metadata": {},
   "outputs": [],
   "source": [
    "from langchain.prompts import PromptTemplate"
   ]
  },
  {
   "cell_type": "code",
   "execution_count": null,
   "metadata": {},
   "outputs": [],
   "source": [
    "prompt = PromptTemplate(\n",
    "    input_variables=[\"food\"],\n",
    "    template=\"What are 5 vacation destination for someone who like {food}?\",\n",
    ")"
   ]
  },
  {
   "cell_type": "code",
   "execution_count": null,
   "metadata": {},
   "outputs": [],
   "source": [
    "prompt.format(food=input())"
   ]
  },
  {
   "cell_type": "code",
   "execution_count": null,
   "metadata": {},
   "outputs": [],
   "source": [
    "print(llm(prompt.format(food=input())))"
   ]
  },
  {
   "cell_type": "markdown",
   "metadata": {},
   "source": [
    "Chains: combine LLms and prompts in multi-step workflow"
   ]
  },
  {
   "cell_type": "code",
   "execution_count": null,
   "metadata": {},
   "outputs": [],
   "source": [
    "from langchain.chains import LLMChain\n",
    "\n",
    "prompt = PromptTemplate(\n",
    "    input_variables=[\"input\"],\n",
    "    template=\"What are 5 vacation destination for someone who like {input}?\",\n",
    ")\n",
    "\n",
    "llm_chain = LLMChain(\n",
    "    llm=llm, # AI21\n",
    "    prompt=prompt, # PromptTemplate\n",
    ")\n",
    "\n",
    "print(llm_chain.run(input=\"chicken\")) # use of chain "
   ]
  },
  {
   "cell_type": "code",
   "execution_count": null,
   "metadata": {},
   "outputs": [],
   "source": [
    "from langchain.agents import load_tools, initialize_agent"
   ]
  },
  {
   "cell_type": "code",
   "execution_count": null,
   "metadata": {},
   "outputs": [],
   "source": [
    "os.environ[\"SERPAPI_API_KEY\"] = \"38da6f742ea2ceb31376aeca7e4c3c5cd9ba10ca729c89056be5219c7369355a\"\n",
    "tools = load_tools(['serpapi', 'llm-math'], llm=llm)"
   ]
  },
  {
   "cell_type": "code",
   "execution_count": null,
   "metadata": {},
   "outputs": [],
   "source": [
    "print(tools)"
   ]
  },
  {
   "cell_type": "code",
   "execution_count": null,
   "metadata": {},
   "outputs": [],
   "source": [
    "agent = initialize_agent(tools, llm, agent=\"zero-shot-react-description\", verbose=True)"
   ]
  },
  {
   "cell_type": "code",
   "execution_count": null,
   "metadata": {},
   "outputs": [],
   "source": [
    "agent.run(\"who is the CEO of Microsoft and who is the director of it?\")"
   ]
  },
  {
   "cell_type": "code",
   "execution_count": null,
   "metadata": {},
   "outputs": [],
   "source": [
    "from langchain import ConversationChain"
   ]
  },
  {
   "cell_type": "code",
   "execution_count": null,
   "metadata": {},
   "outputs": [],
   "source": [
    "conversation = ConversationChain(llm=llm, verbose=True)\n",
    "\n",
    "conversation.predict(input=\"Hi there!\")"
   ]
  },
  {
   "cell_type": "code",
   "execution_count": null,
   "metadata": {},
   "outputs": [],
   "source": [
    "conversation.predict(input=\"write me a code for a flask Application using python\")"
   ]
  },
  {
   "cell_type": "code",
   "execution_count": null,
   "metadata": {},
   "outputs": [],
   "source": [
    "conversation.predict(input=\"Add a function API in flask for taking inputs from user and returning the output\")"
   ]
  },
  {
   "cell_type": "code",
   "execution_count": null,
   "metadata": {},
   "outputs": [],
   "source": [
    "conversation.predict(input=\"Add a function API in flask for taking inputs from user and returning the output\")"
   ]
  },
  {
   "cell_type": "code",
   "execution_count": null,
   "metadata": {},
   "outputs": [],
   "source": [
    "import pypdfium2 as pdfium\n",
    "import matplotlib.pyplot as plt\n",
    "from PIL import Image\n",
    "from io import BytesIO"
   ]
  },
  {
   "cell_type": "code",
   "execution_count": null,
   "metadata": {},
   "outputs": [],
   "source": [
    "def convert_pdf_to_image(file_path, scale=300/72):\n",
    "\n",
    "    pdf_file = pdfium.PdfDocument(file_path)\n",
    "    page_indices = [i for i in range(len(pdf_file))]\n",
    "\n",
    "    renderer = pdf_file.render(\n",
    "        pdfium.PdfBitmap.to_pil,\n",
    "        page_indices=page_indices,\n",
    "        scale=scale,\n",
    "    )\n",
    "\n",
    "    list_final_images = []\n",
    "\n",
    "    for i, image in zip(page_indices, renderer):\n",
    "\n",
    "        image_byte_array = BytesIO()\n",
    "        image.save(image_byte_array, format=\"PNG\")\n",
    "        image_byte_array = image_byte_array.getvalue()\n",
    "        list_final_images.append(dict({i:image_byte_array}))\n",
    "\n",
    "    return list_final_images"
   ]
  },
  {
   "cell_type": "code",
   "execution_count": null,
   "metadata": {},
   "outputs": [],
   "source": [
    "def display_image(list_dict_final_images):\n",
    "    \n",
    "    all_images = [list(data.values())[0] for data in list_dict_final_images]\n",
    "    \n",
    "    for index, image_bytes in enumerate(all_images):\n",
    "        \n",
    "        image = Image.open(BytesIO(image_bytes))\n",
    "        figure = plt.figure(figsize= (image.width / 100, image.height / 100))\n",
    "\n",
    "        plt.title(f\"----- Page {index+1} ----\")\n",
    "        plt.imshow(image)\n",
    "        plt.axis(\"off\")\n",
    "        plt.show()\n"
   ]
  },
  {
   "cell_type": "code",
   "execution_count": null,
   "metadata": {},
   "outputs": [],
   "source": [
    "convert_pdf_to_image = convert_pdf_to_image(r\"C:\\Users\\PC\\Desktop\\Assignment.pdf\")"
   ]
  },
  {
   "cell_type": "code",
   "execution_count": null,
   "metadata": {},
   "outputs": [],
   "source": [
    "display_image(convert_pdf_to_image)"
   ]
  },
  {
   "cell_type": "markdown",
   "metadata": {},
   "source": [
    "# use pytesseract"
   ]
  },
  {
   "cell_type": "code",
   "execution_count": null,
   "metadata": {},
   "outputs": [],
   "source": [
    "from pytesseract import pytesseract"
   ]
  },
  {
   "cell_type": "code",
   "execution_count": 70,
   "metadata": {},
   "outputs": [],
   "source": [
    "def extract_text_with_pytesseract(list_dict_final_images):\n",
    "\n",
    "    image_list = [list(data.values())[0] for data in list_dict_final_images]\n",
    "    image_content = []\n",
    "    pytesseract.tesseract_cmd = r\"C:\\Users\\PC\\AppData\\Local\\Tesseract-OCR\\tesseract.exe\"\n",
    "\n",
    "    for index, image_bytes in enumerate(image_list):\n",
    "\n",
    "        image = Image.open(BytesIO(image_bytes))\n",
    "        raw_text = pytesseract.image_to_string(image)\n",
    "        image_content.append(str(raw_text))\n",
    "\n",
    "    return \"\\n\".join(image_content)"
   ]
  },
  {
   "cell_type": "code",
   "execution_count": 71,
   "metadata": {},
   "outputs": [],
   "source": [
    "text_with_pytesseract = extract_text_with_pytesseract(convert_pdf_to_image)"
   ]
  },
  {
   "cell_type": "code",
   "execution_count": 72,
   "metadata": {},
   "outputs": [
    {
     "name": "stdout",
     "output_type": "stream",
     "text": [
      "08/10/2023, 16:30\n",
      "\n",
      "In [1]:\n",
      "\n",
      "In [2]:\n",
      "\n",
      "localhost:8888/notebooks/Downloads/08.Programming Assignment_08.ipynb\n",
      "\n",
      "08.Programming Assignment_08 - Jupyter Notebook\n",
      "\n",
      "Assignment 8 Solutions\n",
      "\n",
      "1. Write a Python Program to Add two Matrices ?\n",
      "\n",
      "14\n",
      "15\n",
      "16\n",
      "17\n",
      "\n",
      "Inputs\n",
      "Output\n",
      "Inputs\n",
      "Output\n",
      "\n",
      "def\n",
      "\n",
      "addMatrices(a,b):\n",
      "print(f'Inputs: {a}, {b}')\n",
      "if len(a) == len(b):\n",
      "out_matrix = []\n",
      "for ele in range(len(a)):\n",
      "if len(a[ele]) == len(b[ele]):\n",
      "out_matrix.append([])\n",
      "for sub_ele in range(len(a[ele])):\n",
      "out_matrix[ele].append(a[ele][sub_ele]+b[ele][sub_ele])\n",
      "else:\n",
      "print('Both Matrices must contains same no of rows and colum\n",
      "else:\n",
      "print('Both Matrices must contains same no of rows and columns’ )\n",
      "print(f'Output: f{out_matrix}')\n",
      "\n",
      "addMatrices([[1,2,3],[4,5,6],[7,8,9]],[[9,8,7],[6,5,4],[3,2,1]])\n",
      "addMatrices([[2,3,5],[1,1,1],[2,2,2]],[[4,3,5],[1,2,3],[3,2,1]])\n",
      "\n",
      ": [[1, 2, 3], [4, 5, 6], [7, 8, 9]],[[9, 8, 7], [6, 5, 4], [3, 2, 1]]\n",
      ": [[10, 10, 10], [10, 10, 10], [10, 10, 10]]\n",
      "\n",
      ": [[2, 3, 5], [1, 1, 1], [2, 2, 2]],[[4, 3, 5], [1, 2, 3], [3, 2, 1]]\n",
      ": [[6, 6, 10], [2, 3, 4], [5, 4, 3]]\n",
      "\n",
      "2. Write a Python Program to Multiply two Matrices ?\n",
      "\n",
      "WON AU BRWYN PB\n",
      "\n",
      "PRPRPPRPPHBRB\n",
      "NOuUBRWNEH O\n",
      "\n",
      "fed)\n",
      "|\n",
      "\n",
      "def\n",
      "\n",
      "multiply_matrice(a,b):\n",
      "output = []\n",
      "if len(a[@]) == len(b):\n",
      "for ele in range(len(a[@])):\n",
      "output.append([@ for ele in range(len(b[@]))])\n",
      "for i in range(len(a)):\n",
      "for j in range(len(b[@])):\n",
      "for k in range(len(b)):\n",
      "output[i][j] += afi][k]*b[k][5]\n",
      "print (output )\n",
      "else:\n",
      "print('Matrix Multiplication is Not Possible’ )\n",
      "\n",
      "multiply_matrice(a,b)\n",
      "\n",
      "[[14, 32, 50], [32, 77, 122], [5@, 122, 194]]\n",
      "\n",
      "1/3\n",
      "\n",
      "08/10/2023, 16:30 08.Programming Assignment_08 - Jupyter Notebook\n",
      "\n",
      "3. Write a Python Program to transpose a Matrix ?\n",
      "\n",
      "In [3]: 1 a= [[1,2,3],[4,5,6],[7,8,9]]\n",
      "2 b = [[1,2],[4,5],[7,8]]\n",
      "3 c = [[1,2,3],[4,5,6]]\n",
      "4\n",
      "5 def generate_transpose(in_matrix):\n",
      "6 out_matrix = []\n",
      "7 for ele in range(len(in_matrix[@])):\n",
      "8 out_matrix.append([@ for i in range(len(in_matrix))])\n",
      "9 for i in range(len(in_matrix)):\n",
      "10 for j in range(len(in_matrix[i])):\n",
      "11 out_matrix[j][i] = in_matrix[i][j]\n",
      "12 print(f'{in_matrix} -> {out_matrix}')\n",
      "13\n",
      "14 generate_transpose(a)\n",
      "15 generate_transpose(b)\n",
      "16 generate_transpose(c)\n",
      "[[1, 2, 3]; [4, 55 6], [7, 8, 9]] -> [[1, 4, 7]; [2, 35 8], [3, 6, 9]]\n",
      "[[1, 2], [4, 5], [7, 8]] -> [[1, 4, 7], [2 5, 8]]\n",
      "[[1, 2, 3], [4, 5, 6]] -> [[1, 4], [2, 5], [3, 6]]\n",
      "4. Write a Python Program to sort Words in an Alphabatical Order ?\n",
      "In [4]: 1 def sortString():\n",
      "2 in_string = input(\"Enter a String: \").title()\n",
      "3 sorted_list = sorted(in_string.split(' '))\n",
      "4 print(' '.join(sorted_list))\n",
      "5\n",
      "6 sortString()\n",
      "Enter a String: Ineuron Full Stack Data Sciecne\n",
      "Data Full Ineuron Sciecne Stack\n",
      "5, Write a Python Program to remove Punctuations From a String ?\n",
      "In [5]: 1 def removePunctuatuions():\n",
      "2 punctuations = '''!()-[]{}3:'\"\\,<>./2?@#b%°&*_ 01!\n",
      "3 in_string = input( ‘Enter a String: ‘)\n",
      "4 out_string = ''\n",
      "5 for ele in in_string:\n",
      "6 if ele not in punctuations:\n",
      "7 out_string += ele\n",
      "8 print(out_string)\n",
      "\n",
      "9\n",
      "10 removePunctuatuions()\n",
      "\n",
      "Enter a String: \"Full Stacks DS\" @ Ineuron\n",
      "Full Stacks DS Ineuron\n",
      "\n",
      "localhost:8888/notebooks/Downloads/08.Programming Assignment_08.ipynb\n",
      "\n",
      "08/10/2023, 16:30 08.Programming Assignment_08 - Jupyter Notebook\n",
      "\n",
      "localhost:8888/notebooks/Downloads/08.Programming Assignment_08.ipynb 3/3\n",
      "\n"
     ]
    }
   ],
   "source": [
    "print(text_with_pytesseract)"
   ]
  },
  {
   "cell_type": "markdown",
   "metadata": {},
   "source": [
    "# Use OCR"
   ]
  },
  {
   "cell_type": "code",
   "execution_count": null,
   "metadata": {},
   "outputs": [],
   "source": [
    "from easyocr import Reader\n",
    "\n",
    "language_reader = Reader(['en'])"
   ]
  },
  {
   "cell_type": "code",
   "execution_count": null,
   "metadata": {},
   "outputs": [],
   "source": [
    "def extract_text_with_easyocr(list_dict_final_images):\n",
    "    \n",
    "    image_list = [list(data.values())[0] for data in list_dict_final_images]\n",
    "    image_content = []\n",
    "\n",
    "    for index, image_bytes in enumerate(image_list):\n",
    "\n",
    "        image = Image.open(BytesIO(image_bytes))\n",
    "        raw_text = language_reader.readtext(image)\n",
    "        raw_text = \" \".join([res[1] for res in raw_text])\n",
    "\n",
    "        image_content.append(raw_text)\n",
    "    \n",
    "    return \"\\n\".join(image_content)"
   ]
  },
  {
   "cell_type": "code",
   "execution_count": null,
   "metadata": {},
   "outputs": [],
   "source": [
    "text_with_easyocr = extract_text_with_easyocr(convert_pdf_to_image)\n",
    "print(text_with_easyocr)# OCr fails as its rding the files in a straignt line"
   ]
  },
  {
   "cell_type": "markdown",
   "metadata": {},
   "source": [
    "# PyPdf2"
   ]
  },
  {
   "cell_type": "code",
   "execution_count": null,
   "metadata": {},
   "outputs": [],
   "source": [
    "from PyPDF2 import PdfReader"
   ]
  },
  {
   "cell_type": "code",
   "execution_count": null,
   "metadata": {},
   "outputs": [],
   "source": [
    "def extract_text_with_Pypdf2(pdf_file):\n",
    "\n",
    "    pdf_reader = PdfReader(pdf_file)\n",
    "\n",
    "    raw_text = \" \"\n",
    "\n",
    "    for i, page in enumerate(pdf_reader.pages):\n",
    "\n",
    "        text = page.extract_text()\n",
    "        if text:\n",
    "            raw_text += text\n",
    "\n",
    "    return raw_text\n"
   ]
  },
  {
   "cell_type": "code",
   "execution_count": null,
   "metadata": {},
   "outputs": [],
   "source": [
    "text_with_pypdf2 = extract_text_with_Pypdf2(r\"C:\\Users\\PC\\Desktop\\Assignment.pdf\")\n",
    "print(text_with_pypdf2)"
   ]
  },
  {
   "cell_type": "markdown",
   "metadata": {},
   "source": [
    "# Langchain"
   ]
  },
  {
   "cell_type": "code",
   "execution_count": null,
   "metadata": {},
   "outputs": [],
   "source": [
    "from langchain.document_loaders.image import UnstructuredImageLoader\n",
    "\n",
    "def extract_text_with_langchain(list_dict_final_images):\n",
    "\n",
    "    image_list = [list(data.values())[0] for data in list_dict_final_images]\n",
    "    image_content = []\n",
    "\n",
    "    for index, image_bytes in enumerate(image_list):\n",
    "\n",
    "        image = Image.open(BytesIO(image_bytes))\n",
    "        loader = UnstructuredImageLoader(image)\n",
    "        data = loader.load()\n",
    "        raw_text = data[index].page_content\n",
    "\n",
    "        image_content.append(raw_text)\n",
    "    \n",
    "    return \"\\n\".join(image_content)"
   ]
  },
  {
   "cell_type": "code",
   "execution_count": null,
   "metadata": {},
   "outputs": [],
   "source": [
    "text_with_langchain = extract_text_with_langchain(convert_pdf_to_image)\n",
    "text_with_langchain"
   ]
  },
  {
   "cell_type": "code",
   "execution_count": null,
   "metadata": {},
   "outputs": [],
   "source": [
    "from langchain.document_loaders import UnstructuredFileLoader, UnstructuredPDFLoader"
   ]
  },
  {
   "cell_type": "code",
   "execution_count": null,
   "metadata": {},
   "outputs": [],
   "source": [
    "def extract_text_with_langchain_doc_loader(pdf_file):\n",
    "\n",
    "    loader = UnstructuredFileLoader(pdf_file)\n",
    "    documents = loader.load()\n",
    "    pdf_file_content = \"\\n\".join([doc.page_content for doc in documents])\n",
    "\n",
    "    return pdf_file_content"
   ]
  },
  {
   "cell_type": "code",
   "execution_count": null,
   "metadata": {},
   "outputs": [],
   "source": [
    "extract_text_with_langchain_doc_loader(r\"C:\\Users\\PC\\Desktop\\Assignment.pdf\")"
   ]
  },
  {
   "cell_type": "code",
   "execution_count": null,
   "metadata": {},
   "outputs": [],
   "source": [
    "import nbformat\n",
    "\n",
    "# Load the .ipynb file\n",
    "notebook_path = \"amazon.ipynb\"\n",
    "\n",
    "with open(notebook_path, \"r\", encoding=\"utf-8\") as notebook_file:\n",
    "    notebook_content = nbformat.read(notebook_file, as_version=4)\n",
    "\n",
    "# Initialize a list to store questions and code-based answers\n",
    "questions_and_code_answers = []\n",
    "\n",
    "# Initialize variables to track the current question and code-based answer\n",
    "current_question = None\n",
    "current_code_answer = []\n",
    "\n",
    "# Iterate through the cells in the notebook\n",
    "for cell in notebook_content.cells:\n",
    "    if cell.cell_type == \"code\":\n",
    "        cell_source = cell.source.strip()\n",
    "\n",
    "        if current_question and cell_source:\n",
    "            # If we are in a question section and have code content, treat it as part of the answer\n",
    "            current_code_answer.append(cell_source)\n",
    "            \n",
    "    elif cell.cell_type == \"markdown\":\n",
    "        cell_source = cell.source.strip()\n",
    "\n",
    "        # Check if this Markdown cell contains a question\n",
    "        if cell_source and cell_source.endswith(\"?\"):\n",
    "            # If a question is found, store the previous code-based answer\n",
    "            if current_question:\n",
    "                questions_and_code_answers.append({\n",
    "                    \"question\": current_question,\n",
    "                    \"answer\": '\\n'.join(current_code_answer)  # Combine code lines with line breaks\n",
    "                })\n",
    "                current_code_answer = []\n",
    "\n",
    "            # Set the current question\n",
    "            current_question = cell_source\n",
    "        elif current_question:\n",
    "            # If not a question, treat it as a continuation of the code-based answer\n",
    "            current_code_answer.append(cell_source)\n",
    "\n",
    "    # Add a space between each question and its corresponding answer\n",
    "    if current_question and not current_code_answer:\n",
    "        current_code_answer.append(\"\")  # Add an empty line as a separator\n",
    "\n",
    "# Append the last code-based answer\n",
    "if current_question:\n",
    "    questions_and_code_answers.append({\n",
    "        \"question\": current_question,\n",
    "        \"answer\": '\\n'.join(current_code_answer)\n",
    "    })\n",
    "\n",
    "# Now you have a list of dictionaries containing questions and code-based answers with proper indentation and space"
   ]
  },
  {
   "cell_type": "code",
   "execution_count": null,
   "metadata": {},
   "outputs": [],
   "source": [
    "import requests\n",
    "\n",
    "# Set up your AI21 API key\n",
    "\n",
    "\n",
    "# Define the API endpoint for evaluation\n",
    "\n",
    "\n",
    "\n",
    "# Define the Python code you want to evaluate\n",
    "template  = \"\"\"\n",
    "num = int(input(\"enter a number u wnat to check\"))\n",
    " \n",
    "if num > 0:\n",
    "    print(\"this is a positive number\")\n",
    "    if num == 0:\n",
    "        print(\"this is a zero\")\n",
    "else:\n",
    "    print(\"this is a negative number\")\n",
    "\"\"\"\n",
    "\n",
    "# Define a question or prompt (optional)\n",
    "question = \"\"\"Is this Python code correct?\n",
    "{code}\n",
    "\"\"\"\n",
    "\n",
    "# Prepare the data for the API request\n",
    "payload = {\n",
    "    \"prompt\": f\"{question}\\nCode:\\n{code}\\n\",\n",
    "}\n",
    "# Send a POST request to the AI21 API for evaluation\n",
    "# response = requests.post(api_url, json=payload)\n",
    "\n",
    "# # Parse the API response\n",
    "# response_data = response.json()\n",
    "\n",
    "# # Extract the evaluation result\n",
    "# evaluation_result = response_data.get(\"result\", \"Evaluation failed\")\n",
    "\n",
    "# Print the evaluation result\n",
    "# +\n",
    "# print(f\"Python Code:\\n{code}\\nEvaluation: {evaluation_result}\")\n",
    "\n",
    "\n",
    "\n",
    "from langchain.llms import OpenAI\n",
    "\n",
    "llm = OpenAI(temperature=0.9)\n",
    "payload['prompt']\n",
    "from langchain.prompts import PromptTemplate\n",
    "prompt = PromptTemplate(\n",
    "    input_variables=['code'],\n",
    "    template=question,\n",
    ")\n",
    "print(llm(prompt.format(code=template)))"
   ]
  },
  {
   "cell_type": "code",
   "execution_count": 20,
   "metadata": {},
   "outputs": [],
   "source": [
    "import nbformat"
   ]
  },
  {
   "cell_type": "code",
   "execution_count": 21,
   "metadata": {},
   "outputs": [],
   "source": [
    "with open(\"amazon.ipynb\", \"r\", encoding=\"utf-8\") as notebook_file:\n",
    "    notebook_content = nbformat.read(notebook_file, as_version=4)"
   ]
  },
  {
   "cell_type": "code",
   "execution_count": 33,
   "metadata": {},
   "outputs": [
    {
     "name": "stdout",
     "output_type": "stream",
     "text": [
      "from bs4 import BeautifulSoup\n",
      "import requests\n",
      "search = input(\"Enter the product name: \")\n",
      "url = f\"https://www.amazon.in/s?k={search}\"\n",
      "header = {\"User-Agent\":\"Mozilla/5.0 (Windows NT 10.0; Win64; x64) AppleWebKit/537.36 (KHTML, like Gecko) Chrome/114.0.0.0 Safari/537.36\"}\n",
      "page = requests.get(url, headers=header)\n",
      "page.status_code\n",
      "soup = BeautifulSoup(page.content, \"html.parser\")\n",
      "import pandas as pd\n",
      "import matplotlib.pyplot as plt\n",
      "import seaborn as sns\n",
      "\n",
      "df = pd.read_csv(\"https://raw.githubusercontent.com/kanchitank/Mushroom-Classification/master/mushrooms.csv\")\n",
      "df['class'].value_counts()\n",
      "count = df['class'].value_counts()\n",
      "\n",
      "plt.figure(figsize=(8, 7))\n",
      "sns.barplot(count.index, count.values, alpha=0.8, palette=\"prism\")\n",
      "plt.ylabel('Count', fontsize=12)\n",
      "plt.xlabel('Class', fontsize=12)\n",
      "plt.title('Number of poisonous/edible mushrooms')\n",
      "class AgeValidationException(Exception):\n",
      "    def __init__(self, msg):\n",
      "        self.msg = msg\n",
      "\n",
      "\n",
      "def age_validation(age):\n",
      "    if age < 0:\n",
      "        raise AgeValidationException(\"Please enter a positive number.\")\n",
      "    elif age > 200:\n",
      "        raise AgeValidationException(\"Please enter a valid age.\")\n",
      "\n",
      "\n",
      "try:\n",
      "    age1 = int(input(\"Enter an age: \"))\n",
      "    age_validation(age1)\n",
      "except AgeValidationException as e:\n",
      "    print(e.msg)\n",
      "except ValueError:\n",
      "    print(\"Invalid input. Please enter a valid integer.\")\n",
      "\n",
      "from selenium import webdriver\n",
      "from selenium.webdriver.chrome.options import Options\n",
      "from selenium.webdriver.common.by import By\n",
      "\n",
      "driver = webdriver.Chrome(\"D:\\\\Download\\\\chromedriver.exe\")\n",
      "driver.get(\"https://www.linkedin.com/home\")\n",
      "driver.find_element(By.ID, \"session_key\").send_keys(\"ayush08.pujari@gmail.com\")\n",
      "driver.find_element(By.ID, \"session_password\").send_keys(\"143@OnePiece\")\n",
      "driver.find_element(By.XPATH, '//*[@id=\"main-content\"]/section[1]/div/div/form/div[2]/button').click()\n",
      "driver.find_element(By.CLASS_NAME, 'primary-action-new').click()\n",
      "page = driver.page_source\n",
      "from bs4 import BeautifulSoup\n",
      "\n",
      "soup = BeautifulSoup(page, \"html.parser\")\n",
      "job_page = soup.find_all('li', {\"class\":\"global-nav__primary-item\"})[2].find('a').get('href')\n",
      "driver.get(job_page)\n",
      "job_page = driver.page_source\n",
      "job_soup = BeautifulSoup(job_page, 'html.parser')\n",
      "all_job_link = job_soup.find('div',{\"class\":\"discovery-templates-vertical-list__footer\"}).a.get('href')\n",
      "driver.get(all_job_link)\n",
      "all_job_link_page = driver.page_source\n",
      "all_job_link_soup = BeautifulSoup(all_job_link_page, \"html.parser\")\n",
      "for i in all_job_link_soup.find_all(\"div\",{\"class\":\"job-card-container\"}):\n",
      "    print(i.getText())\n",
      "pagetion_len = len(driver.find_element(By.CLASS_NAME, \"jobs-search-results-list__pagination\").find_element(By.TAG_NAME, \"ul\").find_elements(By.TAG_NAME, 'li'))\n",
      "driver.find_element(By.CLASS_NAME, \"jobs-search-results-list__pagination\").find_element(By.TAG_NAME, \"ul\").find_element(By.TAG_NAME, 'li').find_element(By.TAG_NAME, 'button')\n",
      "driver.refresh()\n",
      "def get_url(page_source):\n",
      "    soup = BeautifulSoup(page_source, \"html.parser\")\n",
      "    url_list = soup.find_all(\"div\",{\"class\":\"job-card-container\"})\n",
      "    return url_list\n",
      "import time\n",
      "counter=24\n",
      "all_page_url_list = []\n",
      "for i in range(1,pagetion_len):\n",
      "    time.sleep(4)\n",
      "    print(i)\n",
      "    driver.get(f\"https://www.linkedin.com/jobs/collections/recommended/?currentJobId=&start={counter}\")\n",
      "    all_page_url_list.append(get_url(driver.page_source))\n",
      "    counter+=24\n",
      "\"https://www.linkedin.com/\"+all_page_url_list[1][6].div.find('div',{\"class\":\"flex-grow-1 artdeco-entity-lockup__content ember-view\"}).div.a.get('href')\n",
      "len(all_page_url_list[0])\n",
      "\n"
     ]
    }
   ],
   "source": [
    "for cell in notebook_content.cells:\n",
    "    # print(cell)\n",
    "    if cell.cell_type == \"code\":\n",
    "        print(cell.source)"
   ]
  },
  {
   "cell_type": "code",
   "execution_count": null,
   "metadata": {},
   "outputs": [],
   "source": []
  }
 ],
 "metadata": {
  "kernelspec": {
   "display_name": "base",
   "language": "python",
   "name": "python3"
  },
  "language_info": {
   "codemirror_mode": {
    "name": "ipython",
    "version": 3
   },
   "file_extension": ".py",
   "mimetype": "text/x-python",
   "name": "python",
   "nbconvert_exporter": "python",
   "pygments_lexer": "ipython3",
   "version": "3.11.4"
  }
 },
 "nbformat": 4,
 "nbformat_minor": 2
}
